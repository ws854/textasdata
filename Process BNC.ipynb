{
 "cells": [
  {
   "cell_type": "markdown",
   "metadata": {},
   "source": [
    "# Process British National Cropus into .txt file with the id as its name"
   ]
  },
  {
   "cell_type": "code",
   "execution_count": 1,
   "metadata": {
    "collapsed": true
   },
   "outputs": [],
   "source": [
    "from nltk.corpus.reader.bnc import BNCCorpusReader\n",
    "from nltk.collocations import BigramAssocMeasures, BigramCollocationFinder\n",
    "import numpy as np\n",
    "import pandas as pd \n",
    "import os "
   ]
  },
  {
   "cell_type": "code",
   "execution_count": 3,
   "metadata": {
    "collapsed": false
   },
   "outputs": [],
   "source": [
    "#1 \n",
    "level_a = list()\n",
    "level_b = list()\n",
    "level_c = list() \n",
    "root = \"/Volumes/SD Card/2554/2554/download/Texts\"\n",
    "for i in os.listdir(root):\n",
    "    if i[0]!= \".\":\n",
    "        for j in os.listdir(root+\"/\"+i):\n",
    "            if j[0]!=\".\":\n",
    "                for k in os.listdir(root+\"/\"+i+\"/\"+j):\n",
    "                    if k[0] != \".\" and k.endswith('.xml'):\n",
    "                        level_a.append(i)\n",
    "                        level_b.append(j)\n",
    "                        level_c.append(k)\n",
    " "
   ]
  },
  {
   "cell_type": "code",
   "execution_count": 6,
   "metadata": {
    "collapsed": false
   },
   "outputs": [],
   "source": [
    "#2 \n",
    "bnc_reader = BNCCorpusReader(root=\"/Volumes/SD Card/2554/2554/download/Texts\", fileids=r'[A-K]/\\w*/\\w*\\.xml')\n",
    "\n",
    "def textwrite(a,b,c):\n",
    "    input_root =  \"/Volumes/SD Card/2554/2554/download/Texts/\"\n",
    "    output_root = \"/Volumes/SD Card/BNC/\"\n",
    "    input_path = input_root+a+\"/\"+b+\"/\"+c\n",
    "    output_path = output_root+c.replace(\".xml\",\".txt\")\n",
    "    \n",
    "    xml_list = list((bnc_reader.words(fileids=input_path)))\n",
    "    \n",
    "    with open(output_path, mode = \"a\") as outfile:\n",
    "        for i in xml_list:\n",
    "            outfile.write(i+\" \")  "
   ]
  },
  {
   "cell_type": "code",
   "execution_count": null,
   "metadata": {
    "collapsed": false
   },
   "outputs": [],
   "source": [
    "#3 \n",
    "for i in range(len(level_a)):\n",
    "    textwrite(level_a[i],level_b[i],level_c[i])"
   ]
  },
  {
   "cell_type": "code",
   "execution_count": null,
   "metadata": {
    "collapsed": true
   },
   "outputs": [],
   "source": []
  }
 ],
 "metadata": {
  "kernelspec": {
   "display_name": "Python 3",
   "language": "python",
   "name": "python3"
  },
  "language_info": {
   "codemirror_mode": {
    "name": "ipython",
    "version": 3
   },
   "file_extension": ".py",
   "mimetype": "text/x-python",
   "name": "python",
   "nbconvert_exporter": "python",
   "pygments_lexer": "ipython3",
   "version": "3.6.0"
  }
 },
 "nbformat": 4,
 "nbformat_minor": 2
}
